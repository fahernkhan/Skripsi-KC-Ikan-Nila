{
 "cells": [
  {
   "cell_type": "markdown",
   "metadata": {},
   "source": [
    "# Preprocessing and Training Data for Arduino"
   ]
  },
  {
   "cell_type": "markdown",
   "metadata": {},
   "source": [
    "## Preprocessing"
   ]
  },
  {
   "cell_type": "code",
   "execution_count": 54,
   "metadata": {},
   "outputs": [],
   "source": [
    "import pandas as pd\n",
    "Water_Dataset=pd.read_csv('dataset_final.csv')"
   ]
  },
  {
   "cell_type": "code",
   "execution_count": 55,
   "metadata": {},
   "outputs": [
    {
     "data": {
      "text/html": [
       "<div>\n",
       "<style scoped>\n",
       "    .dataframe tbody tr th:only-of-type {\n",
       "        vertical-align: middle;\n",
       "    }\n",
       "\n",
       "    .dataframe tbody tr th {\n",
       "        vertical-align: top;\n",
       "    }\n",
       "\n",
       "    .dataframe thead th {\n",
       "        text-align: right;\n",
       "    }\n",
       "</style>\n",
       "<table border=\"1\" class=\"dataframe\">\n",
       "  <thead>\n",
       "    <tr style=\"text-align: right;\">\n",
       "      <th></th>\n",
       "      <th>Suhu</th>\n",
       "      <th>pH</th>\n",
       "      <th>Turbidity</th>\n",
       "      <th>target</th>\n",
       "    </tr>\n",
       "  </thead>\n",
       "  <tbody>\n",
       "    <tr>\n",
       "      <th>0</th>\n",
       "      <td>0.670823</td>\n",
       "      <td>0.084142</td>\n",
       "      <td>0.000000</td>\n",
       "      <td>0.0</td>\n",
       "    </tr>\n",
       "    <tr>\n",
       "      <th>1</th>\n",
       "      <td>0.563591</td>\n",
       "      <td>0.067961</td>\n",
       "      <td>0.033731</td>\n",
       "      <td>0.0</td>\n",
       "    </tr>\n",
       "    <tr>\n",
       "      <th>2</th>\n",
       "      <td>0.501247</td>\n",
       "      <td>0.103560</td>\n",
       "      <td>0.168972</td>\n",
       "      <td>0.0</td>\n",
       "    </tr>\n",
       "    <tr>\n",
       "      <th>3</th>\n",
       "      <td>0.593516</td>\n",
       "      <td>0.110032</td>\n",
       "      <td>0.153731</td>\n",
       "      <td>0.0</td>\n",
       "    </tr>\n",
       "    <tr>\n",
       "      <th>4</th>\n",
       "      <td>0.329177</td>\n",
       "      <td>0.000000</td>\n",
       "      <td>0.123003</td>\n",
       "      <td>0.0</td>\n",
       "    </tr>\n",
       "    <tr>\n",
       "      <th>...</th>\n",
       "      <td>...</td>\n",
       "      <td>...</td>\n",
       "      <td>...</td>\n",
       "      <td>...</td>\n",
       "    </tr>\n",
       "    <tr>\n",
       "      <th>85</th>\n",
       "      <td>0.992519</td>\n",
       "      <td>0.689320</td>\n",
       "      <td>0.399811</td>\n",
       "      <td>2.0</td>\n",
       "    </tr>\n",
       "    <tr>\n",
       "      <th>86</th>\n",
       "      <td>0.795511</td>\n",
       "      <td>0.760518</td>\n",
       "      <td>0.563150</td>\n",
       "      <td>2.0</td>\n",
       "    </tr>\n",
       "    <tr>\n",
       "      <th>87</th>\n",
       "      <td>0.882793</td>\n",
       "      <td>0.608414</td>\n",
       "      <td>0.439728</td>\n",
       "      <td>2.0</td>\n",
       "    </tr>\n",
       "    <tr>\n",
       "      <th>88</th>\n",
       "      <td>0.957606</td>\n",
       "      <td>0.588997</td>\n",
       "      <td>0.550674</td>\n",
       "      <td>2.0</td>\n",
       "    </tr>\n",
       "    <tr>\n",
       "      <th>89</th>\n",
       "      <td>0.798005</td>\n",
       "      <td>0.459547</td>\n",
       "      <td>0.485440</td>\n",
       "      <td>2.0</td>\n",
       "    </tr>\n",
       "  </tbody>\n",
       "</table>\n",
       "<p>90 rows × 4 columns</p>\n",
       "</div>"
      ],
      "text/plain": [
       "        Suhu        pH  Turbidity  target\n",
       "0   0.670823  0.084142   0.000000     0.0\n",
       "1   0.563591  0.067961   0.033731     0.0\n",
       "2   0.501247  0.103560   0.168972     0.0\n",
       "3   0.593516  0.110032   0.153731     0.0\n",
       "4   0.329177  0.000000   0.123003     0.0\n",
       "..       ...       ...        ...     ...\n",
       "85  0.992519  0.689320   0.399811     2.0\n",
       "86  0.795511  0.760518   0.563150     2.0\n",
       "87  0.882793  0.608414   0.439728     2.0\n",
       "88  0.957606  0.588997   0.550674     2.0\n",
       "89  0.798005  0.459547   0.485440     2.0\n",
       "\n",
       "[90 rows x 4 columns]"
      ]
     },
     "execution_count": 55,
     "metadata": {},
     "output_type": "execute_result"
    }
   ],
   "source": [
    "Water_Dataset"
   ]
  },
  {
   "cell_type": "code",
   "execution_count": 56,
   "metadata": {},
   "outputs": [
    {
     "data": {
      "text/html": [
       "<div>\n",
       "<style scoped>\n",
       "    .dataframe tbody tr th:only-of-type {\n",
       "        vertical-align: middle;\n",
       "    }\n",
       "\n",
       "    .dataframe tbody tr th {\n",
       "        vertical-align: top;\n",
       "    }\n",
       "\n",
       "    .dataframe thead th {\n",
       "        text-align: right;\n",
       "    }\n",
       "</style>\n",
       "<table border=\"1\" class=\"dataframe\">\n",
       "  <thead>\n",
       "    <tr style=\"text-align: right;\">\n",
       "      <th></th>\n",
       "      <th>Suhu</th>\n",
       "      <th>pH</th>\n",
       "      <th>Turbidity</th>\n",
       "      <th>target</th>\n",
       "    </tr>\n",
       "  </thead>\n",
       "  <tbody>\n",
       "    <tr>\n",
       "      <th>count</th>\n",
       "      <td>90.000000</td>\n",
       "      <td>90.000000</td>\n",
       "      <td>90.000000</td>\n",
       "      <td>90.000000</td>\n",
       "    </tr>\n",
       "    <tr>\n",
       "      <th>mean</th>\n",
       "      <td>0.668135</td>\n",
       "      <td>0.509241</td>\n",
       "      <td>0.315446</td>\n",
       "      <td>1.000000</td>\n",
       "    </tr>\n",
       "    <tr>\n",
       "      <th>std</th>\n",
       "      <td>0.237858</td>\n",
       "      <td>0.314053</td>\n",
       "      <td>0.239755</td>\n",
       "      <td>0.821071</td>\n",
       "    </tr>\n",
       "    <tr>\n",
       "      <th>min</th>\n",
       "      <td>0.000000</td>\n",
       "      <td>0.000000</td>\n",
       "      <td>0.000000</td>\n",
       "      <td>0.000000</td>\n",
       "    </tr>\n",
       "    <tr>\n",
       "      <th>25%</th>\n",
       "      <td>0.510599</td>\n",
       "      <td>0.131068</td>\n",
       "      <td>0.099062</td>\n",
       "      <td>0.000000</td>\n",
       "    </tr>\n",
       "    <tr>\n",
       "      <th>50%</th>\n",
       "      <td>0.679551</td>\n",
       "      <td>0.613269</td>\n",
       "      <td>0.274419</td>\n",
       "      <td>1.000000</td>\n",
       "    </tr>\n",
       "    <tr>\n",
       "      <th>75%</th>\n",
       "      <td>0.872818</td>\n",
       "      <td>0.773463</td>\n",
       "      <td>0.471266</td>\n",
       "      <td>2.000000</td>\n",
       "    </tr>\n",
       "    <tr>\n",
       "      <th>max</th>\n",
       "      <td>1.000000</td>\n",
       "      <td>1.000000</td>\n",
       "      <td>1.000000</td>\n",
       "      <td>2.000000</td>\n",
       "    </tr>\n",
       "  </tbody>\n",
       "</table>\n",
       "</div>"
      ],
      "text/plain": [
       "            Suhu         pH  Turbidity     target\n",
       "count  90.000000  90.000000  90.000000  90.000000\n",
       "mean    0.668135   0.509241   0.315446   1.000000\n",
       "std     0.237858   0.314053   0.239755   0.821071\n",
       "min     0.000000   0.000000   0.000000   0.000000\n",
       "25%     0.510599   0.131068   0.099062   0.000000\n",
       "50%     0.679551   0.613269   0.274419   1.000000\n",
       "75%     0.872818   0.773463   0.471266   2.000000\n",
       "max     1.000000   1.000000   1.000000   2.000000"
      ]
     },
     "execution_count": 56,
     "metadata": {},
     "output_type": "execute_result"
    }
   ],
   "source": [
    "Water_Dataset.describe()"
   ]
  },
  {
   "cell_type": "code",
   "execution_count": 57,
   "metadata": {},
   "outputs": [
    {
     "data": {
      "text/plain": [
       "Index(['Suhu', 'pH', 'Turbidity', 'target'], dtype='object')"
      ]
     },
     "execution_count": 57,
     "metadata": {},
     "output_type": "execute_result"
    }
   ],
   "source": [
    "Water_Dataset.columns"
   ]
  },
  {
   "cell_type": "code",
   "execution_count": 58,
   "metadata": {},
   "outputs": [
    {
     "name": "stdout",
     "output_type": "stream",
     "text": [
      "<class 'pandas.core.frame.DataFrame'>\n",
      "RangeIndex: 90 entries, 0 to 89\n",
      "Data columns (total 4 columns):\n",
      " #   Column     Non-Null Count  Dtype  \n",
      "---  ------     --------------  -----  \n",
      " 0   Suhu       90 non-null     float64\n",
      " 1   pH         90 non-null     float64\n",
      " 2   Turbidity  90 non-null     float64\n",
      " 3   target     90 non-null     float64\n",
      "dtypes: float64(4)\n",
      "memory usage: 2.9 KB\n"
     ]
    }
   ],
   "source": [
    "Water_Dataset.info()"
   ]
  },
  {
   "cell_type": "code",
   "execution_count": 59,
   "metadata": {},
   "outputs": [
    {
     "data": {
      "text/plain": [
       "(90, 4)"
      ]
     },
     "execution_count": 59,
     "metadata": {},
     "output_type": "execute_result"
    }
   ],
   "source": [
    "Water_Dataset.shape"
   ]
  },
  {
   "cell_type": "code",
   "execution_count": 60,
   "metadata": {},
   "outputs": [
    {
     "data": {
      "text/plain": [
       "array([0., 1., 2.])"
      ]
     },
     "execution_count": 60,
     "metadata": {},
     "output_type": "execute_result"
    }
   ],
   "source": [
    "Water_Dataset['target'].unique()"
   ]
  },
  {
   "cell_type": "code",
   "execution_count": 61,
   "metadata": {},
   "outputs": [
    {
     "data": {
      "text/html": [
       "<div>\n",
       "<style scoped>\n",
       "    .dataframe tbody tr th:only-of-type {\n",
       "        vertical-align: middle;\n",
       "    }\n",
       "\n",
       "    .dataframe tbody tr th {\n",
       "        vertical-align: top;\n",
       "    }\n",
       "\n",
       "    .dataframe thead th {\n",
       "        text-align: right;\n",
       "    }\n",
       "</style>\n",
       "<table border=\"1\" class=\"dataframe\">\n",
       "  <thead>\n",
       "    <tr style=\"text-align: right;\">\n",
       "      <th></th>\n",
       "      <th>Suhu</th>\n",
       "      <th>pH</th>\n",
       "      <th>Turbidity</th>\n",
       "      <th>target</th>\n",
       "    </tr>\n",
       "  </thead>\n",
       "  <tbody>\n",
       "    <tr>\n",
       "      <th>count</th>\n",
       "      <td>90.000000</td>\n",
       "      <td>90.000000</td>\n",
       "      <td>90.000000</td>\n",
       "      <td>90.000000</td>\n",
       "    </tr>\n",
       "    <tr>\n",
       "      <th>mean</th>\n",
       "      <td>0.668135</td>\n",
       "      <td>0.509241</td>\n",
       "      <td>0.315446</td>\n",
       "      <td>1.000000</td>\n",
       "    </tr>\n",
       "    <tr>\n",
       "      <th>std</th>\n",
       "      <td>0.237858</td>\n",
       "      <td>0.314053</td>\n",
       "      <td>0.239755</td>\n",
       "      <td>0.821071</td>\n",
       "    </tr>\n",
       "    <tr>\n",
       "      <th>min</th>\n",
       "      <td>0.000000</td>\n",
       "      <td>0.000000</td>\n",
       "      <td>0.000000</td>\n",
       "      <td>0.000000</td>\n",
       "    </tr>\n",
       "    <tr>\n",
       "      <th>25%</th>\n",
       "      <td>0.510599</td>\n",
       "      <td>0.131068</td>\n",
       "      <td>0.099062</td>\n",
       "      <td>0.000000</td>\n",
       "    </tr>\n",
       "    <tr>\n",
       "      <th>50%</th>\n",
       "      <td>0.679551</td>\n",
       "      <td>0.613269</td>\n",
       "      <td>0.274419</td>\n",
       "      <td>1.000000</td>\n",
       "    </tr>\n",
       "    <tr>\n",
       "      <th>75%</th>\n",
       "      <td>0.872818</td>\n",
       "      <td>0.773463</td>\n",
       "      <td>0.471266</td>\n",
       "      <td>2.000000</td>\n",
       "    </tr>\n",
       "    <tr>\n",
       "      <th>max</th>\n",
       "      <td>1.000000</td>\n",
       "      <td>1.000000</td>\n",
       "      <td>1.000000</td>\n",
       "      <td>2.000000</td>\n",
       "    </tr>\n",
       "  </tbody>\n",
       "</table>\n",
       "</div>"
      ],
      "text/plain": [
       "            Suhu         pH  Turbidity     target\n",
       "count  90.000000  90.000000  90.000000  90.000000\n",
       "mean    0.668135   0.509241   0.315446   1.000000\n",
       "std     0.237858   0.314053   0.239755   0.821071\n",
       "min     0.000000   0.000000   0.000000   0.000000\n",
       "25%     0.510599   0.131068   0.099062   0.000000\n",
       "50%     0.679551   0.613269   0.274419   1.000000\n",
       "75%     0.872818   0.773463   0.471266   2.000000\n",
       "max     1.000000   1.000000   1.000000   2.000000"
      ]
     },
     "execution_count": 61,
     "metadata": {},
     "output_type": "execute_result"
    }
   ],
   "source": [
    "Water_Dataset.describe()"
   ]
  },
  {
   "cell_type": "markdown",
   "metadata": {},
   "source": [
    "# Train Model"
   ]
  },
  {
   "cell_type": "markdown",
   "metadata": {},
   "source": [
    "## SVC"
   ]
  },
  {
   "cell_type": "code",
   "execution_count": 62,
   "metadata": {},
   "outputs": [],
   "source": [
    "x = Water_Dataset.drop(['target'], axis = 1)\n",
    "y = Water_Dataset['target']"
   ]
  },
  {
   "cell_type": "code",
   "execution_count": 64,
   "metadata": {},
   "outputs": [],
   "source": [
    "x = Water_Dataset.drop(['target'], axis = 1)\n",
    "y = Water_Dataset['target']"
   ]
  },
  {
   "cell_type": "code",
   "execution_count": 65,
   "metadata": {},
   "outputs": [],
   "source": [
    "from sklearn.model_selection import train_test_split\n",
    "from sklearn.svm import SVC\n",
    "from sklearn.metrics import accuracy_score, classification_report, confusion_matrix"
   ]
  },
  {
   "cell_type": "code",
   "execution_count": 66,
   "metadata": {},
   "outputs": [
    {
     "name": "stdout",
     "output_type": "stream",
     "text": [
      "(72, 3)\n",
      "(18, 3)\n",
      "(72,)\n",
      "(18,)\n"
     ]
    }
   ],
   "source": [
    "x_train, x_test, y_train, y_test = train_test_split(x,y, test_size = 0.2, random_state = 0)\n",
    "print(x_train.shape)\n",
    "print(x_test.shape)\n",
    "print(y_train.shape)\n",
    "print(y_test.shape)"
   ]
  },
  {
   "cell_type": "code",
   "execution_count": 71,
   "metadata": {},
   "outputs": [
    {
     "name": "stdout",
     "output_type": "stream",
     "text": [
      "accuarcy score is :  1.0\n",
      "classification report is :                precision    recall  f1-score   support\n",
      "\n",
      "         0.0       1.00      1.00      1.00         7\n",
      "         1.0       1.00      1.00      1.00         7\n",
      "         2.0       1.00      1.00      1.00         4\n",
      "\n",
      "    accuracy                           1.00        18\n",
      "   macro avg       1.00      1.00      1.00        18\n",
      "weighted avg       1.00      1.00      1.00        18\n",
      "\n",
      "confusion matirx is :  [[7 0 0]\n",
      " [0 7 0]\n",
      " [0 0 4]]\n"
     ]
    }
   ],
   "source": [
    "model = SVC(C=1000, kernel='rbf', gamma=0.001)\n",
    "model.fit(x_train,y_train)\n",
    "pred = model.predict(x_test)\n",
    "print(\"accuarcy score is : \", accuracy_score(y_test, pred))\n",
    "print(\"classification report is : \", classification_report(y_test, pred))\n",
    "print(\"confusion matirx is : \", confusion_matrix(y_test, pred))"
   ]
  },
  {
   "cell_type": "code",
   "execution_count": 95,
   "metadata": {},
   "outputs": [
    {
     "name": "stdout",
     "output_type": "stream",
     "text": [
      "Accuracy score is: 1.0\n",
      "Classification report is:               precision    recall  f1-score   support\n",
      "\n",
      "           0       1.00      1.00      1.00         7\n",
      "           1       1.00      1.00      1.00         7\n",
      "           2       1.00      1.00      1.00         4\n",
      "\n",
      "    accuracy                           1.00        18\n",
      "   macro avg       1.00      1.00      1.00        18\n",
      "weighted avg       1.00      1.00      1.00        18\n",
      "\n",
      "Confusion matrix is: [[7 0 0]\n",
      " [0 7 0]\n",
      " [0 0 4]]\n"
     ]
    }
   ],
   "source": [
    "# Create a Random Forest Classifier\n",
    "model_rf = RandomForestClassifier(n_estimators=10)  # You can adjust the number of estimators\n",
    "\n",
    "# Train the model on the training data\n",
    "model_rf.fit(x_train, y_train)\n",
    "\n",
    "# Make predictions on the test data\n",
    "pred_rf = model_rf.predict(x_test)\n",
    "\n",
    "# Evaluate the Random Forest Classifier's performance\n",
    "print(\"Accuracy score is:\", accuracy_score(y_test, pred_rf))\n",
    "print(\"Classification report is:\", classification_report(y_test, pred_rf))\n",
    "print(\"Confusion matrix is:\", confusion_matrix(y_test, pred_rf))"
   ]
  },
  {
   "cell_type": "markdown",
   "metadata": {},
   "source": [
    "# Training Data and Port to C code"
   ]
  },
  {
   "cell_type": "code",
   "execution_count": 74,
   "metadata": {},
   "outputs": [],
   "source": [
    "import pandas as pd\n",
    "Water_Dataset=pd.read_csv('dataset_final.csv')"
   ]
  },
  {
   "cell_type": "markdown",
   "metadata": {},
   "source": [
    "## SVC"
   ]
  },
  {
   "cell_type": "code",
   "execution_count": 82,
   "metadata": {},
   "outputs": [],
   "source": [
    "from micromlgen import port\n",
    "from sklearn.svm import SVC\n",
    "\n",
    "\n",
    "if __name__ == '__main__':\n",
    "    X = Water_Dataset.drop(['target'], axis = 1)\n",
    "    y = Water_Dataset['target']\n",
    "    clf = SVC(C=1000, kernel='rbf', gamma=0.001).fit(X, y)\n",
    "    classmap = {\n",
    "        0: 'Bersih',\n",
    "        1: 'Perlu Diencerkan',\n",
    "        2: 'Perlu Dikuras'\n",
    "    }\n",
    "    c_code = port(clf, classmap=classmap)\n",
    "\n",
    "    with open('classifier_svm.h', 'w') as file:\n",
    "        file.write(c_code)"
   ]
  }
 ],
 "metadata": {
  "kernelspec": {
   "display_name": "Python 3",
   "language": "python",
   "name": "python3"
  },
  "language_info": {
   "codemirror_mode": {
    "name": "ipython",
    "version": 3
   },
   "file_extension": ".py",
   "mimetype": "text/x-python",
   "name": "python",
   "nbconvert_exporter": "python",
   "pygments_lexer": "ipython3",
   "version": "3.9.6"
  }
 },
 "nbformat": 4,
 "nbformat_minor": 2
}
