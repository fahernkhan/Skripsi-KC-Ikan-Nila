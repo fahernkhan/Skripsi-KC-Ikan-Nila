{
 "cells": [
  {
   "cell_type": "markdown",
   "metadata": {},
   "source": [
    "# Preprocessing and Training Data for Arduino"
   ]
  },
  {
   "cell_type": "markdown",
   "metadata": {},
   "source": [
    "## Preprocessing"
   ]
  },
  {
   "cell_type": "code",
   "execution_count": 10,
   "metadata": {},
   "outputs": [],
   "source": [
    "import pandas as pd\n",
    "Water_Dataset=pd.read_csv('dataset.csv')"
   ]
  },
  {
   "cell_type": "code",
   "execution_count": 11,
   "metadata": {},
   "outputs": [
    {
     "data": {
      "text/html": [
       "<div>\n",
       "<style scoped>\n",
       "    .dataframe tbody tr th:only-of-type {\n",
       "        vertical-align: middle;\n",
       "    }\n",
       "\n",
       "    .dataframe tbody tr th {\n",
       "        vertical-align: top;\n",
       "    }\n",
       "\n",
       "    .dataframe thead th {\n",
       "        text-align: right;\n",
       "    }\n",
       "</style>\n",
       "<table border=\"1\" class=\"dataframe\">\n",
       "  <thead>\n",
       "    <tr style=\"text-align: right;\">\n",
       "      <th></th>\n",
       "      <th>Suhu</th>\n",
       "      <th>pH</th>\n",
       "      <th>Turbidity</th>\n",
       "      <th>target</th>\n",
       "      <th>target_name</th>\n",
       "    </tr>\n",
       "  </thead>\n",
       "  <tbody>\n",
       "    <tr>\n",
       "      <th>0</th>\n",
       "      <td>28.62</td>\n",
       "      <td>6.82</td>\n",
       "      <td>127.88</td>\n",
       "      <td>0</td>\n",
       "      <td>Bersih</td>\n",
       "    </tr>\n",
       "    <tr>\n",
       "      <th>1</th>\n",
       "      <td>28.19</td>\n",
       "      <td>6.77</td>\n",
       "      <td>219.75</td>\n",
       "      <td>0</td>\n",
       "      <td>Bersih</td>\n",
       "    </tr>\n",
       "    <tr>\n",
       "      <th>2</th>\n",
       "      <td>27.94</td>\n",
       "      <td>6.88</td>\n",
       "      <td>588.09</td>\n",
       "      <td>0</td>\n",
       "      <td>Bersih</td>\n",
       "    </tr>\n",
       "    <tr>\n",
       "      <th>3</th>\n",
       "      <td>28.31</td>\n",
       "      <td>6.90</td>\n",
       "      <td>546.58</td>\n",
       "      <td>0</td>\n",
       "      <td>Bersih</td>\n",
       "    </tr>\n",
       "    <tr>\n",
       "      <th>4</th>\n",
       "      <td>27.25</td>\n",
       "      <td>6.56</td>\n",
       "      <td>462.89</td>\n",
       "      <td>0</td>\n",
       "      <td>Bersih</td>\n",
       "    </tr>\n",
       "    <tr>\n",
       "      <th>...</th>\n",
       "      <td>...</td>\n",
       "      <td>...</td>\n",
       "      <td>...</td>\n",
       "      <td>...</td>\n",
       "      <td>...</td>\n",
       "    </tr>\n",
       "    <tr>\n",
       "      <th>85</th>\n",
       "      <td>29.91</td>\n",
       "      <td>8.69</td>\n",
       "      <td>1216.80</td>\n",
       "      <td>2</td>\n",
       "      <td>Perlu Dikuras</td>\n",
       "    </tr>\n",
       "    <tr>\n",
       "      <th>86</th>\n",
       "      <td>29.12</td>\n",
       "      <td>8.91</td>\n",
       "      <td>1661.67</td>\n",
       "      <td>2</td>\n",
       "      <td>Perlu Dikuras</td>\n",
       "    </tr>\n",
       "    <tr>\n",
       "      <th>87</th>\n",
       "      <td>29.47</td>\n",
       "      <td>8.44</td>\n",
       "      <td>1325.52</td>\n",
       "      <td>2</td>\n",
       "      <td>Perlu Dikuras</td>\n",
       "    </tr>\n",
       "    <tr>\n",
       "      <th>88</th>\n",
       "      <td>29.77</td>\n",
       "      <td>8.38</td>\n",
       "      <td>1627.69</td>\n",
       "      <td>2</td>\n",
       "      <td>Perlu Dikuras</td>\n",
       "    </tr>\n",
       "    <tr>\n",
       "      <th>89</th>\n",
       "      <td>29.13</td>\n",
       "      <td>7.98</td>\n",
       "      <td>1450.02</td>\n",
       "      <td>2</td>\n",
       "      <td>Perlu Dikuras</td>\n",
       "    </tr>\n",
       "  </tbody>\n",
       "</table>\n",
       "<p>90 rows × 5 columns</p>\n",
       "</div>"
      ],
      "text/plain": [
       "     Suhu    pH  Turbidity  target    target_name\n",
       "0   28.62  6.82     127.88       0         Bersih\n",
       "1   28.19  6.77     219.75       0         Bersih\n",
       "2   27.94  6.88     588.09       0         Bersih\n",
       "3   28.31  6.90     546.58       0         Bersih\n",
       "4   27.25  6.56     462.89       0         Bersih\n",
       "..    ...   ...        ...     ...            ...\n",
       "85  29.91  8.69    1216.80       2  Perlu Dikuras\n",
       "86  29.12  8.91    1661.67       2  Perlu Dikuras\n",
       "87  29.47  8.44    1325.52       2  Perlu Dikuras\n",
       "88  29.77  8.38    1627.69       2  Perlu Dikuras\n",
       "89  29.13  7.98    1450.02       2  Perlu Dikuras\n",
       "\n",
       "[90 rows x 5 columns]"
      ]
     },
     "execution_count": 11,
     "metadata": {},
     "output_type": "execute_result"
    }
   ],
   "source": [
    "Water_Dataset"
   ]
  },
  {
   "cell_type": "code",
   "execution_count": 12,
   "metadata": {},
   "outputs": [
    {
     "data": {
      "text/html": [
       "<div>\n",
       "<style scoped>\n",
       "    .dataframe tbody tr th:only-of-type {\n",
       "        vertical-align: middle;\n",
       "    }\n",
       "\n",
       "    .dataframe tbody tr th {\n",
       "        vertical-align: top;\n",
       "    }\n",
       "\n",
       "    .dataframe thead th {\n",
       "        text-align: right;\n",
       "    }\n",
       "</style>\n",
       "<table border=\"1\" class=\"dataframe\">\n",
       "  <thead>\n",
       "    <tr style=\"text-align: right;\">\n",
       "      <th></th>\n",
       "      <th>Suhu</th>\n",
       "      <th>pH</th>\n",
       "      <th>Turbidity</th>\n",
       "      <th>target</th>\n",
       "    </tr>\n",
       "  </thead>\n",
       "  <tbody>\n",
       "    <tr>\n",
       "      <th>count</th>\n",
       "      <td>90.000000</td>\n",
       "      <td>90.000000</td>\n",
       "      <td>90.000000</td>\n",
       "      <td>90.000000</td>\n",
       "    </tr>\n",
       "    <tr>\n",
       "      <th>mean</th>\n",
       "      <td>28.609222</td>\n",
       "      <td>8.133556</td>\n",
       "      <td>987.026333</td>\n",
       "      <td>1.000000</td>\n",
       "    </tr>\n",
       "    <tr>\n",
       "      <th>std</th>\n",
       "      <td>0.953811</td>\n",
       "      <td>0.970424</td>\n",
       "      <td>652.995460</td>\n",
       "      <td>0.821071</td>\n",
       "    </tr>\n",
       "    <tr>\n",
       "      <th>min</th>\n",
       "      <td>25.930000</td>\n",
       "      <td>6.560000</td>\n",
       "      <td>127.880000</td>\n",
       "      <td>0.000000</td>\n",
       "    </tr>\n",
       "    <tr>\n",
       "      <th>25%</th>\n",
       "      <td>27.977500</td>\n",
       "      <td>6.965000</td>\n",
       "      <td>397.685000</td>\n",
       "      <td>0.000000</td>\n",
       "    </tr>\n",
       "    <tr>\n",
       "      <th>50%</th>\n",
       "      <td>28.655000</td>\n",
       "      <td>8.455000</td>\n",
       "      <td>875.285000</td>\n",
       "      <td>1.000000</td>\n",
       "    </tr>\n",
       "    <tr>\n",
       "      <th>75%</th>\n",
       "      <td>29.430000</td>\n",
       "      <td>8.950000</td>\n",
       "      <td>1411.415000</td>\n",
       "      <td>2.000000</td>\n",
       "    </tr>\n",
       "    <tr>\n",
       "      <th>max</th>\n",
       "      <td>29.940000</td>\n",
       "      <td>9.650000</td>\n",
       "      <td>2851.470000</td>\n",
       "      <td>2.000000</td>\n",
       "    </tr>\n",
       "  </tbody>\n",
       "</table>\n",
       "</div>"
      ],
      "text/plain": [
       "            Suhu         pH    Turbidity     target\n",
       "count  90.000000  90.000000    90.000000  90.000000\n",
       "mean   28.609222   8.133556   987.026333   1.000000\n",
       "std     0.953811   0.970424   652.995460   0.821071\n",
       "min    25.930000   6.560000   127.880000   0.000000\n",
       "25%    27.977500   6.965000   397.685000   0.000000\n",
       "50%    28.655000   8.455000   875.285000   1.000000\n",
       "75%    29.430000   8.950000  1411.415000   2.000000\n",
       "max    29.940000   9.650000  2851.470000   2.000000"
      ]
     },
     "execution_count": 12,
     "metadata": {},
     "output_type": "execute_result"
    }
   ],
   "source": [
    "Water_Dataset.describe()"
   ]
  },
  {
   "cell_type": "code",
   "execution_count": 13,
   "metadata": {},
   "outputs": [
    {
     "data": {
      "text/plain": [
       "Index(['Suhu', 'pH', 'Turbidity', 'target', 'target_name'], dtype='object')"
      ]
     },
     "execution_count": 13,
     "metadata": {},
     "output_type": "execute_result"
    }
   ],
   "source": [
    "Water_Dataset.columns"
   ]
  },
  {
   "cell_type": "code",
   "execution_count": 14,
   "metadata": {},
   "outputs": [
    {
     "name": "stdout",
     "output_type": "stream",
     "text": [
      "<class 'pandas.core.frame.DataFrame'>\n",
      "RangeIndex: 90 entries, 0 to 89\n",
      "Data columns (total 5 columns):\n",
      " #   Column       Non-Null Count  Dtype  \n",
      "---  ------       --------------  -----  \n",
      " 0   Suhu         90 non-null     float64\n",
      " 1   pH           90 non-null     float64\n",
      " 2   Turbidity    90 non-null     float64\n",
      " 3   target       90 non-null     int64  \n",
      " 4   target_name  90 non-null     object \n",
      "dtypes: float64(3), int64(1), object(1)\n",
      "memory usage: 3.6+ KB\n"
     ]
    }
   ],
   "source": [
    "Water_Dataset.info()"
   ]
  },
  {
   "cell_type": "code",
   "execution_count": 15,
   "metadata": {},
   "outputs": [
    {
     "data": {
      "text/plain": [
       "(90, 5)"
      ]
     },
     "execution_count": 15,
     "metadata": {},
     "output_type": "execute_result"
    }
   ],
   "source": [
    "Water_Dataset.shape"
   ]
  },
  {
   "cell_type": "code",
   "execution_count": 16,
   "metadata": {},
   "outputs": [
    {
     "data": {
      "text/plain": [
       "array(['Bersih', 'Perlu Diencerkan', 'Perlu Dikuras'], dtype=object)"
      ]
     },
     "execution_count": 16,
     "metadata": {},
     "output_type": "execute_result"
    }
   ],
   "source": [
    "Water_Dataset['target_name'].unique()"
   ]
  },
  {
   "cell_type": "code",
   "execution_count": 17,
   "metadata": {},
   "outputs": [
    {
     "data": {
      "text/html": [
       "<div>\n",
       "<style scoped>\n",
       "    .dataframe tbody tr th:only-of-type {\n",
       "        vertical-align: middle;\n",
       "    }\n",
       "\n",
       "    .dataframe tbody tr th {\n",
       "        vertical-align: top;\n",
       "    }\n",
       "\n",
       "    .dataframe thead th {\n",
       "        text-align: right;\n",
       "    }\n",
       "</style>\n",
       "<table border=\"1\" class=\"dataframe\">\n",
       "  <thead>\n",
       "    <tr style=\"text-align: right;\">\n",
       "      <th></th>\n",
       "      <th>Suhu</th>\n",
       "      <th>pH</th>\n",
       "      <th>Turbidity</th>\n",
       "      <th>target</th>\n",
       "    </tr>\n",
       "  </thead>\n",
       "  <tbody>\n",
       "    <tr>\n",
       "      <th>count</th>\n",
       "      <td>90.000000</td>\n",
       "      <td>90.000000</td>\n",
       "      <td>90.000000</td>\n",
       "      <td>90.000000</td>\n",
       "    </tr>\n",
       "    <tr>\n",
       "      <th>mean</th>\n",
       "      <td>28.609222</td>\n",
       "      <td>8.133556</td>\n",
       "      <td>987.026333</td>\n",
       "      <td>1.000000</td>\n",
       "    </tr>\n",
       "    <tr>\n",
       "      <th>std</th>\n",
       "      <td>0.953811</td>\n",
       "      <td>0.970424</td>\n",
       "      <td>652.995460</td>\n",
       "      <td>0.821071</td>\n",
       "    </tr>\n",
       "    <tr>\n",
       "      <th>min</th>\n",
       "      <td>25.930000</td>\n",
       "      <td>6.560000</td>\n",
       "      <td>127.880000</td>\n",
       "      <td>0.000000</td>\n",
       "    </tr>\n",
       "    <tr>\n",
       "      <th>25%</th>\n",
       "      <td>27.977500</td>\n",
       "      <td>6.965000</td>\n",
       "      <td>397.685000</td>\n",
       "      <td>0.000000</td>\n",
       "    </tr>\n",
       "    <tr>\n",
       "      <th>50%</th>\n",
       "      <td>28.655000</td>\n",
       "      <td>8.455000</td>\n",
       "      <td>875.285000</td>\n",
       "      <td>1.000000</td>\n",
       "    </tr>\n",
       "    <tr>\n",
       "      <th>75%</th>\n",
       "      <td>29.430000</td>\n",
       "      <td>8.950000</td>\n",
       "      <td>1411.415000</td>\n",
       "      <td>2.000000</td>\n",
       "    </tr>\n",
       "    <tr>\n",
       "      <th>max</th>\n",
       "      <td>29.940000</td>\n",
       "      <td>9.650000</td>\n",
       "      <td>2851.470000</td>\n",
       "      <td>2.000000</td>\n",
       "    </tr>\n",
       "  </tbody>\n",
       "</table>\n",
       "</div>"
      ],
      "text/plain": [
       "            Suhu         pH    Turbidity     target\n",
       "count  90.000000  90.000000    90.000000  90.000000\n",
       "mean   28.609222   8.133556   987.026333   1.000000\n",
       "std     0.953811   0.970424   652.995460   0.821071\n",
       "min    25.930000   6.560000   127.880000   0.000000\n",
       "25%    27.977500   6.965000   397.685000   0.000000\n",
       "50%    28.655000   8.455000   875.285000   1.000000\n",
       "75%    29.430000   8.950000  1411.415000   2.000000\n",
       "max    29.940000   9.650000  2851.470000   2.000000"
      ]
     },
     "execution_count": 17,
     "metadata": {},
     "output_type": "execute_result"
    }
   ],
   "source": [
    "Water_Dataset.describe()"
   ]
  },
  {
   "cell_type": "markdown",
   "metadata": {},
   "source": [
    "# Train Model"
   ]
  },
  {
   "cell_type": "markdown",
   "metadata": {},
   "source": [
    "## SVC"
   ]
  },
  {
   "cell_type": "code",
   "execution_count": 18,
   "metadata": {},
   "outputs": [],
   "source": [
    "import pandas as pd\n",
    "Water_Dataset=pd.read_csv('dataset_final.csv')"
   ]
  },
  {
   "cell_type": "code",
   "execution_count": 19,
   "metadata": {},
   "outputs": [],
   "source": [
    "x = Water_Dataset.drop(['target'], axis = 1)\n",
    "y = Water_Dataset['target']"
   ]
  },
  {
   "cell_type": "code",
   "execution_count": 20,
   "metadata": {},
   "outputs": [],
   "source": [
    "from sklearn.model_selection import train_test_split\n",
    "from sklearn.svm import SVC\n",
    "from sklearn.metrics import accuracy_score, classification_report, confusion_matrix"
   ]
  },
  {
   "cell_type": "code",
   "execution_count": 21,
   "metadata": {},
   "outputs": [
    {
     "name": "stdout",
     "output_type": "stream",
     "text": [
      "(72, 3)\n",
      "(18, 3)\n",
      "(72,)\n",
      "(18,)\n"
     ]
    }
   ],
   "source": [
    "x_train, x_test, y_train, y_test = train_test_split(x,y, test_size = 0.2, random_state = 0)\n",
    "print(x_train.shape)\n",
    "print(x_test.shape)\n",
    "print(y_train.shape)\n",
    "print(y_test.shape)"
   ]
  },
  {
   "cell_type": "code",
   "execution_count": 22,
   "metadata": {},
   "outputs": [
    {
     "name": "stdout",
     "output_type": "stream",
     "text": [
      "accuarcy score is :  1.0\n",
      "classification report is :                precision    recall  f1-score   support\n",
      "\n",
      "           0       1.00      1.00      1.00         7\n",
      "           1       1.00      1.00      1.00         7\n",
      "           2       1.00      1.00      1.00         4\n",
      "\n",
      "    accuracy                           1.00        18\n",
      "   macro avg       1.00      1.00      1.00        18\n",
      "weighted avg       1.00      1.00      1.00        18\n",
      "\n",
      "confusion matirx is :  [[7 0 0]\n",
      " [0 7 0]\n",
      " [0 0 4]]\n"
     ]
    }
   ],
   "source": [
    "model = SVC(C=1000, kernel='rbf', gamma=0.001,decision_function_shape='ovr')\n",
    "model.fit(x_train,y_train)\n",
    "pred = model.predict(x_test)\n",
    "print(\"accuarcy score is : \", accuracy_score(y_test, pred))\n",
    "print(\"classification report is : \", classification_report(y_test, pred))\n",
    "print(\"confusion matirx is : \", confusion_matrix(y_test, pred))"
   ]
  },
  {
   "cell_type": "markdown",
   "metadata": {},
   "source": [
    "# Training Data and Port to C code"
   ]
  },
  {
   "cell_type": "code",
   "execution_count": 174,
   "metadata": {},
   "outputs": [],
   "source": [
    "import pandas as pd\n",
    "Water_Dataset=pd.read_csv('dataset_final.csv')"
   ]
  },
  {
   "cell_type": "markdown",
   "metadata": {},
   "source": [
    "## SVC"
   ]
  },
  {
   "cell_type": "code",
   "execution_count": 179,
   "metadata": {},
   "outputs": [],
   "source": [
    "from micromlgen import port\n",
    "from sklearn.svm import SVC\n",
    "\n",
    "\n",
    "if __name__ == '__main__':\n",
    "    X = Water_Dataset.drop(['target'], axis = 1)\n",
    "    y = Water_Dataset['target']\n",
    "    clf = SVC(C=1000, kernel='rbf', gamma=0.001, decision_function_shape='ovr').fit(X, y)\n",
    "    classmap = {\n",
    "        0: 'Bersih',\n",
    "        1: 'Perlu Diencerkan',\n",
    "        2: 'Perlu Dikuras'\n",
    "    }\n",
    "    c_code = port(clf, classmap=classmap)\n",
    "\n",
    "    with open('classifier_svm.h', 'w') as file:\n",
    "        file.write(c_code)"
   ]
  }
 ],
 "metadata": {
  "kernelspec": {
   "display_name": "Python 3",
   "language": "python",
   "name": "python3"
  },
  "language_info": {
   "codemirror_mode": {
    "name": "ipython",
    "version": 3
   },
   "file_extension": ".py",
   "mimetype": "text/x-python",
   "name": "python",
   "nbconvert_exporter": "python",
   "pygments_lexer": "ipython3",
   "version": "3.9.6"
  }
 },
 "nbformat": 4,
 "nbformat_minor": 2
}
